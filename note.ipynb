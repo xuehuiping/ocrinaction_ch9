{
 "cells": [
  {
   "cell_type": "code",
   "execution_count": 10,
   "metadata": {},
   "outputs": [],
   "source": [
    "# 2020-12-24 23:17:17\n",
    "# 第九章 OCR后处理方法"
   ]
  },
  {
   "cell_type": "code",
   "execution_count": 11,
   "metadata": {},
   "outputs": [
    {
     "name": "stdout",
     "output_type": "stream",
     "text": [
      "/Users/xuehuiping/anaconda3/bin/python\r\n"
     ]
    }
   ],
   "source": [
    "!which python"
   ]
  },
  {
   "cell_type": "code",
   "execution_count": 12,
   "metadata": {},
   "outputs": [
    {
     "name": "stdout",
     "output_type": "stream",
     "text": [
      "Python 3.8.5\r\n"
     ]
    }
   ],
   "source": [
    "!python --version"
   ]
  },
  {
   "cell_type": "code",
   "execution_count": 13,
   "metadata": {},
   "outputs": [
    {
     "name": "stdout",
     "output_type": "stream",
     "text": [
      "{'name': '宋岳庭', 'sex': '女', 'ethnicity': '汉', 'address': '北京市海淀区', 'id_number': '148601199001014567', 'birthdate': '19901113'}\r\n"
     ]
    }
   ],
   "source": [
    "!python idcard.py"
   ]
  },
  {
   "cell_type": "code",
   "execution_count": 14,
   "metadata": {},
   "outputs": [
    {
     "name": "stdout",
     "output_type": "stream",
     "text": [
      "CNN_Text(\r\n",
      "  (embed): Embedding(100, 50)\r\n",
      "  (convs1): ModuleList(\r\n",
      "    (0): Conv2d(1, 64, kernel_size=(2, 50), stride=(1, 1))\r\n",
      "    (1): Conv2d(1, 64, kernel_size=(3, 50), stride=(1, 1))\r\n",
      "    (2): Conv2d(1, 64, kernel_size=(4, 50), stride=(1, 1))\r\n",
      "  )\r\n",
      "  (fc1): Linear(in_features=192, out_features=2, bias=True)\r\n",
      ")\r\n"
     ]
    }
   ],
   "source": [
    "!python cnntext.py"
   ]
  },
  {
   "cell_type": "code",
   "execution_count": 15,
   "metadata": {},
   "outputs": [
    {
     "name": "stdout",
     "output_type": "stream",
     "text": [
      "[0.9, 0.3, 0.2, 0.4, 0.5, 0.2, -10, -4000]\r\n",
      "离群值所在位置：[6 7]\r\n",
      "离群值：\r\n",
      "-10 -4000 "
     ]
    }
   ],
   "source": [
    "# 离群值检测\n",
    "!python MAD.py"
   ]
  },
  {
   "cell_type": "code",
   "execution_count": null,
   "metadata": {},
   "outputs": [],
   "source": []
  }
 ],
 "metadata": {
  "kernelspec": {
   "display_name": "Python 3",
   "language": "python",
   "name": "python3"
  },
  "language_info": {
   "codemirror_mode": {
    "name": "ipython",
    "version": 3
   },
   "file_extension": ".py",
   "mimetype": "text/x-python",
   "name": "python",
   "nbconvert_exporter": "python",
   "pygments_lexer": "ipython3",
   "version": "3.8.5"
  }
 },
 "nbformat": 4,
 "nbformat_minor": 4
}
